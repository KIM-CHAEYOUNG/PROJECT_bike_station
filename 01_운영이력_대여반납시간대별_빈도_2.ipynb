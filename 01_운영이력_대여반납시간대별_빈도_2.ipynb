{
  "nbformat": 4,
  "nbformat_minor": 0,
  "metadata": {
    "colab": {
      "name": "01_운영이력_대여반납시간대별_빈도_2.ipynb",
      "provenance": [],
      "authorship_tag": "ABX9TyNxNZUPjgQAMd0ReMQiXkWz",
      "include_colab_link": true
    },
    "kernelspec": {
      "name": "python3",
      "display_name": "Python 3"
    }
  },
  "cells": [
    {
      "cell_type": "markdown",
      "metadata": {
        "id": "view-in-github",
        "colab_type": "text"
      },
      "source": [
        "<a href=\"https://colab.research.google.com/github/KIM-CHAEYOUNG/PROJECT_bike_station/blob/master/01_%EC%9A%B4%EC%98%81%EC%9D%B4%EB%A0%A5_%EB%8C%80%EC%97%AC%EB%B0%98%EB%82%A9%EC%8B%9C%EA%B0%84%EB%8C%80%EB%B3%84_%EB%B9%88%EB%8F%84_2.ipynb\" target=\"_parent\"><img src=\"https://colab.research.google.com/assets/colab-badge.svg\" alt=\"Open In Colab\"/></a>"
      ]
    },
    {
      "cell_type": "markdown",
      "metadata": {
        "id": "AhP4e5wSdqkT",
        "colab_type": "text"
      },
      "source": [
        "## '01_운영이력자전거 사용 시간'을 통해 추출할 수 있을 데이터 예측2\n",
        "\n",
        "1. 고양시 일대가 배드타운인 점을 고려할 때\n",
        "\n",
        "    *자전거스테이션 이용과 막차 이후 사이에 상관관계가 존재할 것*"
      ]
    },
    {
      "cell_type": "code",
      "metadata": {
        "id": "dP72WW13dBb5",
        "colab_type": "code",
        "colab": {
          "base_uri": "https://localhost:8080/",
          "height": 142
        },
        "outputId": "7cc02556-2c99-477e-f58b-d094debc920c"
      },
      "source": [
        "# 데이터 읽어오기\n",
        "# 구글 클라우드 연동\n",
        "\n",
        "from google.colab import drive\n",
        "\n",
        "ROOT=\"/content/drive\"\n",
        "print(ROOT)\n",
        "drive.mount(ROOT)"
      ],
      "execution_count": 1,
      "outputs": [
        {
          "output_type": "stream",
          "text": [
            "/content/drive\n",
            "Go to this URL in a browser: https://accounts.google.com/o/oauth2/auth?client_id=947318989803-6bn6qk8qdgf4n4g3pfee6491hc0brc4i.apps.googleusercontent.com&redirect_uri=urn%3aietf%3awg%3aoauth%3a2.0%3aoob&scope=email%20https%3a%2f%2fwww.googleapis.com%2fauth%2fdocs.test%20https%3a%2f%2fwww.googleapis.com%2fauth%2fdrive%20https%3a%2f%2fwww.googleapis.com%2fauth%2fdrive.photos.readonly%20https%3a%2f%2fwww.googleapis.com%2fauth%2fpeopleapi.readonly&response_type=code\n",
            "\n",
            "Enter your authorization code:\n",
            "··········\n",
            "Mounted at /content/drive\n"
          ],
          "name": "stdout"
        }
      ]
    },
    {
      "cell_type": "code",
      "metadata": {
        "id": "sUmzSG-7etkt",
        "colab_type": "code",
        "colab": {
          "base_uri": "https://localhost:8080/",
          "height": 34
        },
        "outputId": "55715375-d6b0-41ee-cb58-961a605e47a1"
      },
      "source": [
        "%cd drive/\"My Drive\"/\"고양시\"/"
      ],
      "execution_count": 3,
      "outputs": [
        {
          "output_type": "stream",
          "text": [
            "/content/drive/My Drive/고양시\n"
          ],
          "name": "stdout"
        }
      ]
    },
    {
      "cell_type": "code",
      "metadata": {
        "id": "Y6bbD75xe9zr",
        "colab_type": "code",
        "colab": {
          "base_uri": "https://localhost:8080/",
          "height": 897
        },
        "outputId": "7dae2c4b-69e0-4c9b-f835-f4fda9ebf152"
      },
      "source": [
        "%ls"
      ],
      "execution_count": 4,
      "outputs": [
        {
          "output_type": "stream",
          "text": [
            "\u001b[0m\u001b[01;34m'미래 영향요인 조사'\u001b[0m/\n",
            " \u001b[01;34m화성시\u001b[0m/\n",
            " \u001b[01;34m분석완료\u001b[0m/\n",
            " 01.운영이력.csv\n",
            " 02.자전거스테이션.csv\n",
            " 03.꽃박람회일정.csv\n",
            " \u001b[01;34m03_map\u001b[0m/\n",
            " 03_map.zip\n",
            " 04.KINTEX행사일정.csv\n",
            " 05.기상정보.csv\n",
            "'06.인구(거주)분포도(100M_X_100M).geojson'\n",
            " 07.인구통계.csv\n",
            "'08.행정경계(시군구).geojson'\n",
            "'09.행정경계(읍면동).geojson'\n",
            " \u001b[01;34m아이디어1\u001b[0m/\n",
            "'10.도시계획(공간시설).geojson'\n",
            "'11.도시계획(공공문화체육시설).geojson'\n",
            "'12.도시계획(교통시설).geojson'\n",
            "'13.용도지역지구(습지보호지역).geojson'\n",
            " 14.고양시_지적도.geojson\n",
            " 15.도로명주소_건물.geojson\n",
            " 16.도로명주소_도로.geojson\n",
            "'17.일반건물_분포도(100M_X_100M).geojson'\n",
            " 18.행사장_공간정보.csv\n",
            " 19.전철역_공간정보.csv\n",
            " \u001b[01;34m아이디어2\u001b[0m/\n",
            " 20.고양시_버스정류소.csv\n",
            " 20.고양시_버스정류소.csv.20.고양시_버스정류소.vrt\n",
            " 21.버스_정류장별_승하차_정보.csv\n",
            " 22.주차장정보.csv\n",
            " 23.고양시덕양구_DEM.img\n",
            " 24.고양시일산동구_DEM.img\n",
            " 25.고양시일산서구_DEM.img\n",
            "'26.고양시 공연장 박물관 정보.csv'\n",
            "'27.고양시 체육시설 현황 정보.csv'\n",
            " 28.코드정의서.xlsx\n",
            "'29.지하철 역별 이용객수.csv'\n",
            " \u001b[01;34m아이디어3\u001b[0m/\n",
            " 30.고양시_덕양구_고도.geojson\n",
            " 31.고양시_일산동구_고도.geojson\n",
            " 32.고양시_일산서구_고도.geojson\n",
            " 33.고양시_인도.geojson\n",
            "\u001b[01;34m'geojson 데이터 읽기'\u001b[0m/\n",
            " goyang_bus.ipynb\n",
            " \u001b[01;34mQGIS_실습\u001b[0m/\n",
            "'QGIS 실습1.qgz'\n",
            "'고양시 지도 데이터.qgz'\n",
            " 읍면동_인도_지도.qgz\n",
            " SBJ_1910_001.zip\n",
            " SBJ_2007_001.zip\n"
          ],
          "name": "stdout"
        }
      ]
    },
    {
      "cell_type": "code",
      "metadata": {
        "id": "SAKya-yYfJYo",
        "colab_type": "code",
        "colab": {
          "base_uri": "https://localhost:8080/",
          "height": 72
        },
        "outputId": "ff82ed34-4b79-42e0-d4ea-503beb896553"
      },
      "source": [
        "# 패키지 설치\n",
        "import pandas as pd\n",
        "import numpy as np\n",
        "import seaborn as sns\n",
        "import matplotlib.pyplot as plt\n",
        "import folium"
      ],
      "execution_count": 5,
      "outputs": [
        {
          "output_type": "stream",
          "text": [
            "/usr/local/lib/python3.6/dist-packages/statsmodels/tools/_testing.py:19: FutureWarning: pandas.util.testing is deprecated. Use the functions in the public API at pandas.testing instead.\n",
            "  import pandas.util.testing as tm\n"
          ],
          "name": "stderr"
        }
      ]
    },
    {
      "cell_type": "markdown",
      "metadata": {
        "id": "56Tqm43CfVBr",
        "colab_type": "text"
      },
      "source": [
        "# '01_운영이력' 파일 읽어오기"
      ]
    },
    {
      "cell_type": "code",
      "metadata": {
        "id": "DZKPxgyvfT8v",
        "colab_type": "code",
        "colab": {
          "base_uri": "https://localhost:8080/",
          "height": 793
        },
        "outputId": "5430a556-dc12-424a-a9a8-36bbbaaec4b6"
      },
      "source": [
        "bicycle_now=pd.read_csv(\"01.운영이력.csv\")\n",
        "bicycle_now"
      ],
      "execution_count": 6,
      "outputs": [
        {
          "output_type": "stream",
          "text": [
            "/usr/local/lib/python3.6/dist-packages/IPython/core/interactiveshell.py:2718: DtypeWarning: Columns (9) have mixed types.Specify dtype option on import or set low_memory=False.\n",
            "  interactivity=interactivity, compiler=compiler, result=result)\n"
          ],
          "name": "stderr"
        },
        {
          "output_type": "execute_result",
          "data": {
            "text/html": [
              "<div>\n",
              "<style scoped>\n",
              "    .dataframe tbody tr th:only-of-type {\n",
              "        vertical-align: middle;\n",
              "    }\n",
              "\n",
              "    .dataframe tbody tr th {\n",
              "        vertical-align: top;\n",
              "    }\n",
              "\n",
              "    .dataframe thead th {\n",
              "        text-align: right;\n",
              "    }\n",
              "</style>\n",
              "<table border=\"1\" class=\"dataframe\">\n",
              "  <thead>\n",
              "    <tr style=\"text-align: right;\">\n",
              "      <th></th>\n",
              "      <th>LEAS_NO</th>\n",
              "      <th>LEAS_STAT</th>\n",
              "      <th>LEAS_DATE</th>\n",
              "      <th>LEAS_STATION</th>\n",
              "      <th>LEAS_DEF_NO</th>\n",
              "      <th>RTN_DATE</th>\n",
              "      <th>RTN_STATION</th>\n",
              "      <th>RTN_DEF_NO</th>\n",
              "      <th>TRNV_QTY</th>\n",
              "      <th>MEMB_DIV</th>\n",
              "      <th>MEMB_NO</th>\n",
              "      <th>TEMP_MEMB_NO</th>\n",
              "      <th>BIKE_TAG</th>\n",
              "      <th>RTN_PROCESS</th>\n",
              "    </tr>\n",
              "  </thead>\n",
              "  <tbody>\n",
              "    <tr>\n",
              "      <th>0</th>\n",
              "      <td>15945541</td>\n",
              "      <td>2</td>\n",
              "      <td>2017-01-01 00:00:41</td>\n",
              "      <td>213</td>\n",
              "      <td>18</td>\n",
              "      <td>2017-01-01 00:13:52</td>\n",
              "      <td>260</td>\n",
              "      <td>17</td>\n",
              "      <td>0.0</td>\n",
              "      <td>6</td>\n",
              "      <td>164203</td>\n",
              "      <td>0.0</td>\n",
              "      <td>1A844000000BB7</td>\n",
              "      <td>NaN</td>\n",
              "    </tr>\n",
              "    <tr>\n",
              "      <th>1</th>\n",
              "      <td>15945542</td>\n",
              "      <td>2</td>\n",
              "      <td>2017-01-01 00:01:03</td>\n",
              "      <td>231</td>\n",
              "      <td>4</td>\n",
              "      <td>2017-01-01 00:50:24</td>\n",
              "      <td>231</td>\n",
              "      <td>17</td>\n",
              "      <td>31039.0</td>\n",
              "      <td>1</td>\n",
              "      <td>187551</td>\n",
              "      <td>0.0</td>\n",
              "      <td>1A844000000494</td>\n",
              "      <td>NaN</td>\n",
              "    </tr>\n",
              "    <tr>\n",
              "      <th>2</th>\n",
              "      <td>15945543</td>\n",
              "      <td>2</td>\n",
              "      <td>2017-01-01 00:01:50</td>\n",
              "      <td>119</td>\n",
              "      <td>14</td>\n",
              "      <td>2017-01-01 01:01:50</td>\n",
              "      <td>0</td>\n",
              "      <td>0</td>\n",
              "      <td>NaN</td>\n",
              "      <td>12</td>\n",
              "      <td>168994</td>\n",
              "      <td>0.0</td>\n",
              "      <td>1A844000000533</td>\n",
              "      <td>1.0</td>\n",
              "    </tr>\n",
              "    <tr>\n",
              "      <th>3</th>\n",
              "      <td>15945544</td>\n",
              "      <td>2</td>\n",
              "      <td>2017-01-01 00:02:09</td>\n",
              "      <td>121</td>\n",
              "      <td>17</td>\n",
              "      <td>2017-01-01 00:15:58</td>\n",
              "      <td>133</td>\n",
              "      <td>14</td>\n",
              "      <td>15490.0</td>\n",
              "      <td>12</td>\n",
              "      <td>183971</td>\n",
              "      <td>0.0</td>\n",
              "      <td>1A844000000731</td>\n",
              "      <td>NaN</td>\n",
              "    </tr>\n",
              "    <tr>\n",
              "      <th>4</th>\n",
              "      <td>15945545</td>\n",
              "      <td>2</td>\n",
              "      <td>2017-01-01 00:03:32</td>\n",
              "      <td>320</td>\n",
              "      <td>29</td>\n",
              "      <td>2017-01-01 00:18:44</td>\n",
              "      <td>259</td>\n",
              "      <td>27</td>\n",
              "      <td>0.0</td>\n",
              "      <td>12</td>\n",
              "      <td>167475</td>\n",
              "      <td>0.0</td>\n",
              "      <td>1A84400000F343</td>\n",
              "      <td>NaN</td>\n",
              "    </tr>\n",
              "    <tr>\n",
              "      <th>...</th>\n",
              "      <td>...</td>\n",
              "      <td>...</td>\n",
              "      <td>...</td>\n",
              "      <td>...</td>\n",
              "      <td>...</td>\n",
              "      <td>...</td>\n",
              "      <td>...</td>\n",
              "      <td>...</td>\n",
              "      <td>...</td>\n",
              "      <td>...</td>\n",
              "      <td>...</td>\n",
              "      <td>...</td>\n",
              "      <td>...</td>\n",
              "      <td>...</td>\n",
              "    </tr>\n",
              "    <tr>\n",
              "      <th>3142683</th>\n",
              "      <td>21718608</td>\n",
              "      <td>2</td>\n",
              "      <td>2019-12-31 23:52:39</td>\n",
              "      <td>222</td>\n",
              "      <td>16</td>\n",
              "      <td>2019-12-31 23:58:56</td>\n",
              "      <td>219</td>\n",
              "      <td>24</td>\n",
              "      <td>0.0</td>\n",
              "      <td>3</td>\n",
              "      <td>236957</td>\n",
              "      <td>0.0</td>\n",
              "      <td>1A84400000F881</td>\n",
              "      <td>NaN</td>\n",
              "    </tr>\n",
              "    <tr>\n",
              "      <th>3142684</th>\n",
              "      <td>21718610</td>\n",
              "      <td>2</td>\n",
              "      <td>2019-12-31 23:53:59</td>\n",
              "      <td>343</td>\n",
              "      <td>14</td>\n",
              "      <td>2019-12-31 23:57:59</td>\n",
              "      <td>311</td>\n",
              "      <td>15</td>\n",
              "      <td>0.0</td>\n",
              "      <td>99</td>\n",
              "      <td>0</td>\n",
              "      <td>4124665.0</td>\n",
              "      <td>1A84400000F9DA</td>\n",
              "      <td>NaN</td>\n",
              "    </tr>\n",
              "    <tr>\n",
              "      <th>3142685</th>\n",
              "      <td>21718611</td>\n",
              "      <td>2</td>\n",
              "      <td>2019-12-31 23:55:27</td>\n",
              "      <td>333</td>\n",
              "      <td>17</td>\n",
              "      <td>2020-01-01 00:06:24</td>\n",
              "      <td>322</td>\n",
              "      <td>5</td>\n",
              "      <td>0.0</td>\n",
              "      <td>99</td>\n",
              "      <td>0</td>\n",
              "      <td>4124667.0</td>\n",
              "      <td>1A84400000048B</td>\n",
              "      <td>NaN</td>\n",
              "    </tr>\n",
              "    <tr>\n",
              "      <th>3142686</th>\n",
              "      <td>21718613</td>\n",
              "      <td>2</td>\n",
              "      <td>2019-12-31 23:59:14</td>\n",
              "      <td>264</td>\n",
              "      <td>4</td>\n",
              "      <td>2020-01-01 00:10:39</td>\n",
              "      <td>210</td>\n",
              "      <td>13</td>\n",
              "      <td>0.0</td>\n",
              "      <td>12</td>\n",
              "      <td>180671</td>\n",
              "      <td>0.0</td>\n",
              "      <td>1A84400000F804</td>\n",
              "      <td>NaN</td>\n",
              "    </tr>\n",
              "    <tr>\n",
              "      <th>3142687</th>\n",
              "      <td>21718614</td>\n",
              "      <td>2</td>\n",
              "      <td>2019-12-31 23:59:30</td>\n",
              "      <td>214</td>\n",
              "      <td>18</td>\n",
              "      <td>2020-01-01 00:10:08</td>\n",
              "      <td>222</td>\n",
              "      <td>3</td>\n",
              "      <td>33169.0</td>\n",
              "      <td>12</td>\n",
              "      <td>215409</td>\n",
              "      <td>0.0</td>\n",
              "      <td>1A84400000F5C7</td>\n",
              "      <td>NaN</td>\n",
              "    </tr>\n",
              "  </tbody>\n",
              "</table>\n",
              "<p>3142688 rows × 14 columns</p>\n",
              "</div>"
            ],
            "text/plain": [
              "          LEAS_NO  LEAS_STAT  ...        BIKE_TAG  RTN_PROCESS\n",
              "0        15945541          2  ...  1A844000000BB7          NaN\n",
              "1        15945542          2  ...  1A844000000494          NaN\n",
              "2        15945543          2  ...  1A844000000533          1.0\n",
              "3        15945544          2  ...  1A844000000731          NaN\n",
              "4        15945545          2  ...  1A84400000F343          NaN\n",
              "...           ...        ...  ...             ...          ...\n",
              "3142683  21718608          2  ...  1A84400000F881          NaN\n",
              "3142684  21718610          2  ...  1A84400000F9DA          NaN\n",
              "3142685  21718611          2  ...  1A84400000048B          NaN\n",
              "3142686  21718613          2  ...  1A84400000F804          NaN\n",
              "3142687  21718614          2  ...  1A84400000F5C7          NaN\n",
              "\n",
              "[3142688 rows x 14 columns]"
            ]
          },
          "metadata": {
            "tags": []
          },
          "execution_count": 6
        }
      ]
    },
    {
      "cell_type": "markdown",
      "metadata": {
        "id": "nVI9ZW0jhPWI",
        "colab_type": "text"
      },
      "source": [
        "#***오전 12시-3시(막차 이후)*** 자전거 현황"
      ]
    },
    {
      "cell_type": "code",
      "metadata": {
        "id": "nA85ZJyKfgz9",
        "colab_type": "code",
        "colab": {}
      },
      "source": [
        "# 새로운 칼럼('tempDATE') 추가\n",
        "# 시/분/초를 쪼개서 시간값만 추출\n",
        "\n",
        "bicycle_now['tempDATE']=bicycle_now.LEAS_DATE.apply(lambda x: x.split())"
      ],
      "execution_count": 7,
      "outputs": []
    },
    {
      "cell_type": "code",
      "metadata": {
        "id": "dYiTKeJwiCzZ",
        "colab_type": "code",
        "colab": {}
      },
      "source": [
        "#시간값만 모아 컬럼['LEAS_hour']에 추가\n",
        "\n",
        "bicycle_now['LEAS_hour']=bicycle_now.tempDATE.apply(lambda x:x[1].split(\":\")[0])"
      ],
      "execution_count": 8,
      "outputs": []
    },
    {
      "cell_type": "code",
      "metadata": {
        "id": "Sd5CRLH_ihD7",
        "colab_type": "code",
        "colab": {
          "base_uri": "https://localhost:8080/",
          "height": 228
        },
        "outputId": "de36dc3d-6f6c-400b-f60c-79747a0d4ffa"
      },
      "source": [
        "bicycle_now['LEAS_hour']"
      ],
      "execution_count": 9,
      "outputs": [
        {
          "output_type": "execute_result",
          "data": {
            "text/plain": [
              "0          00\n",
              "1          00\n",
              "2          00\n",
              "3          00\n",
              "4          00\n",
              "           ..\n",
              "3142683    23\n",
              "3142684    23\n",
              "3142685    23\n",
              "3142686    23\n",
              "3142687    23\n",
              "Name: LEAS_hour, Length: 3142688, dtype: object"
            ]
          },
          "metadata": {
            "tags": []
          },
          "execution_count": 9
        }
      ]
    },
    {
      "cell_type": "code",
      "metadata": {
        "id": "6edYTVarikVL",
        "colab_type": "code",
        "colab": {}
      },
      "source": [
        "#막차 시간 별 시리즈 생성\n",
        "\n",
        "makcha0=bicycle_now['LEAS_hour']=='00'\n",
        "makcha1=bicycle_now['LEAS_hour']=='01'\n",
        "makcha2=bicycle_now['LEAS_hour']=='02'\n",
        "makcha3=bicycle_now['LEAS_hour']=='03'"
      ],
      "execution_count": 10,
      "outputs": []
    },
    {
      "cell_type": "code",
      "metadata": {
        "id": "zcJzGhRPkJKZ",
        "colab_type": "code",
        "colab": {}
      },
      "source": [
        "# 해당 시리즈를 bicycle_now의 칼럼으로 추가\n",
        "makcha0=bicycle_now[makcha0]\n",
        "makcha1=bicycle_now[makcha1]\n",
        "makcha2=bicycle_now[makcha2]\n",
        "makcha3=bicycle_now[makcha3]"
      ],
      "execution_count": 12,
      "outputs": []
    },
    {
      "cell_type": "code",
      "metadata": {
        "id": "OF3cz9i9jyWx",
        "colab_type": "code",
        "colab": {
          "base_uri": "https://localhost:8080/",
          "height": 257
        },
        "outputId": "3f1611c6-7265-49ff-b03f-15749283f438"
      },
      "source": [
        "# 해당 시리즈를 bicycle_now의 칼럼으로 추가\n",
        "bicycle_makcha=makcha0.append([makcha1, makcha2, makcha3])\n",
        "bicycle_makcha.head(3)"
      ],
      "execution_count": 13,
      "outputs": [
        {
          "output_type": "execute_result",
          "data": {
            "text/html": [
              "<div>\n",
              "<style scoped>\n",
              "    .dataframe tbody tr th:only-of-type {\n",
              "        vertical-align: middle;\n",
              "    }\n",
              "\n",
              "    .dataframe tbody tr th {\n",
              "        vertical-align: top;\n",
              "    }\n",
              "\n",
              "    .dataframe thead th {\n",
              "        text-align: right;\n",
              "    }\n",
              "</style>\n",
              "<table border=\"1\" class=\"dataframe\">\n",
              "  <thead>\n",
              "    <tr style=\"text-align: right;\">\n",
              "      <th></th>\n",
              "      <th>LEAS_NO</th>\n",
              "      <th>LEAS_STAT</th>\n",
              "      <th>LEAS_DATE</th>\n",
              "      <th>LEAS_STATION</th>\n",
              "      <th>LEAS_DEF_NO</th>\n",
              "      <th>RTN_DATE</th>\n",
              "      <th>RTN_STATION</th>\n",
              "      <th>RTN_DEF_NO</th>\n",
              "      <th>TRNV_QTY</th>\n",
              "      <th>MEMB_DIV</th>\n",
              "      <th>MEMB_NO</th>\n",
              "      <th>TEMP_MEMB_NO</th>\n",
              "      <th>BIKE_TAG</th>\n",
              "      <th>RTN_PROCESS</th>\n",
              "      <th>tempDATE</th>\n",
              "      <th>LEAS_hour</th>\n",
              "    </tr>\n",
              "  </thead>\n",
              "  <tbody>\n",
              "    <tr>\n",
              "      <th>0</th>\n",
              "      <td>15945541</td>\n",
              "      <td>2</td>\n",
              "      <td>2017-01-01 00:00:41</td>\n",
              "      <td>213</td>\n",
              "      <td>18</td>\n",
              "      <td>2017-01-01 00:13:52</td>\n",
              "      <td>260</td>\n",
              "      <td>17</td>\n",
              "      <td>0.0</td>\n",
              "      <td>6</td>\n",
              "      <td>164203</td>\n",
              "      <td>0.0</td>\n",
              "      <td>1A844000000BB7</td>\n",
              "      <td>NaN</td>\n",
              "      <td>[2017-01-01, 00:00:41]</td>\n",
              "      <td>00</td>\n",
              "    </tr>\n",
              "    <tr>\n",
              "      <th>1</th>\n",
              "      <td>15945542</td>\n",
              "      <td>2</td>\n",
              "      <td>2017-01-01 00:01:03</td>\n",
              "      <td>231</td>\n",
              "      <td>4</td>\n",
              "      <td>2017-01-01 00:50:24</td>\n",
              "      <td>231</td>\n",
              "      <td>17</td>\n",
              "      <td>31039.0</td>\n",
              "      <td>1</td>\n",
              "      <td>187551</td>\n",
              "      <td>0.0</td>\n",
              "      <td>1A844000000494</td>\n",
              "      <td>NaN</td>\n",
              "      <td>[2017-01-01, 00:01:03]</td>\n",
              "      <td>00</td>\n",
              "    </tr>\n",
              "    <tr>\n",
              "      <th>2</th>\n",
              "      <td>15945543</td>\n",
              "      <td>2</td>\n",
              "      <td>2017-01-01 00:01:50</td>\n",
              "      <td>119</td>\n",
              "      <td>14</td>\n",
              "      <td>2017-01-01 01:01:50</td>\n",
              "      <td>0</td>\n",
              "      <td>0</td>\n",
              "      <td>NaN</td>\n",
              "      <td>12</td>\n",
              "      <td>168994</td>\n",
              "      <td>0.0</td>\n",
              "      <td>1A844000000533</td>\n",
              "      <td>1.0</td>\n",
              "      <td>[2017-01-01, 00:01:50]</td>\n",
              "      <td>00</td>\n",
              "    </tr>\n",
              "  </tbody>\n",
              "</table>\n",
              "</div>"
            ],
            "text/plain": [
              "    LEAS_NO  LEAS_STAT  ...                tempDATE  LEAS_hour\n",
              "0  15945541          2  ...  [2017-01-01, 00:00:41]         00\n",
              "1  15945542          2  ...  [2017-01-01, 00:01:03]         00\n",
              "2  15945543          2  ...  [2017-01-01, 00:01:50]         00\n",
              "\n",
              "[3 rows x 16 columns]"
            ]
          },
          "metadata": {
            "tags": []
          },
          "execution_count": 13
        }
      ]
    },
    {
      "cell_type": "code",
      "metadata": {
        "id": "R7JYIrowkHIh",
        "colab_type": "code",
        "colab": {
          "base_uri": "https://localhost:8080/",
          "height": 422
        },
        "outputId": "038f372c-5b21-406b-dabd-5ea259ed8dfe"
      },
      "source": [
        "bicycle_makcha.info()"
      ],
      "execution_count": 14,
      "outputs": [
        {
          "output_type": "stream",
          "text": [
            "<class 'pandas.core.frame.DataFrame'>\n",
            "Int64Index: 259527 entries, 0 to 3141705\n",
            "Data columns (total 16 columns):\n",
            " #   Column        Non-Null Count   Dtype  \n",
            "---  ------        --------------   -----  \n",
            " 0   LEAS_NO       259527 non-null  int64  \n",
            " 1   LEAS_STAT     259527 non-null  int64  \n",
            " 2   LEAS_DATE     259527 non-null  object \n",
            " 3   LEAS_STATION  259527 non-null  int64  \n",
            " 4   LEAS_DEF_NO   259527 non-null  int64  \n",
            " 5   RTN_DATE      259527 non-null  object \n",
            " 6   RTN_STATION   259527 non-null  int64  \n",
            " 7   RTN_DEF_NO    259527 non-null  int64  \n",
            " 8   TRNV_QTY      221944 non-null  float64\n",
            " 9   MEMB_DIV      259527 non-null  object \n",
            " 10  MEMB_NO       259527 non-null  int64  \n",
            " 11  TEMP_MEMB_NO  259527 non-null  float64\n",
            " 12  BIKE_TAG      259527 non-null  object \n",
            " 13  RTN_PROCESS   38621 non-null   float64\n",
            " 14  tempDATE      259527 non-null  object \n",
            " 15  LEAS_hour     259527 non-null  object \n",
            "dtypes: float64(3), int64(7), object(6)\n",
            "memory usage: 33.7+ MB\n"
          ],
          "name": "stdout"
        }
      ]
    },
    {
      "cell_type": "markdown",
      "metadata": {
        "id": "DxwozObjkdIq",
        "colab_type": "text"
      },
      "source": [
        "#막차 시간 이후 자전거 현황"
      ]
    },
    {
      "cell_type": "code",
      "metadata": {
        "id": "SfZgyJE9ka2c",
        "colab_type": "code",
        "colab": {
          "base_uri": "https://localhost:8080/",
          "height": 402
        },
        "outputId": "52e230a9-938a-4397-d733-7ab15b2265f3"
      },
      "source": [
        "# 대여-반납 현황이 시간대별로 유사하기 때문에 대여 관련 자료만 추출한다.\n",
        "\n",
        "bicycle_makcha_LEAS=bicycle_makcha[['LEAS_NO', 'LEAS_DATE', 'LEAS_STATION', 'LEAS_DEF_NO']]\n",
        "bicycle_makcha_LEAS"
      ],
      "execution_count": 15,
      "outputs": [
        {
          "output_type": "execute_result",
          "data": {
            "text/html": [
              "<div>\n",
              "<style scoped>\n",
              "    .dataframe tbody tr th:only-of-type {\n",
              "        vertical-align: middle;\n",
              "    }\n",
              "\n",
              "    .dataframe tbody tr th {\n",
              "        vertical-align: top;\n",
              "    }\n",
              "\n",
              "    .dataframe thead th {\n",
              "        text-align: right;\n",
              "    }\n",
              "</style>\n",
              "<table border=\"1\" class=\"dataframe\">\n",
              "  <thead>\n",
              "    <tr style=\"text-align: right;\">\n",
              "      <th></th>\n",
              "      <th>LEAS_NO</th>\n",
              "      <th>LEAS_DATE</th>\n",
              "      <th>LEAS_STATION</th>\n",
              "      <th>LEAS_DEF_NO</th>\n",
              "    </tr>\n",
              "  </thead>\n",
              "  <tbody>\n",
              "    <tr>\n",
              "      <th>0</th>\n",
              "      <td>15945541</td>\n",
              "      <td>2017-01-01 00:00:41</td>\n",
              "      <td>213</td>\n",
              "      <td>18</td>\n",
              "    </tr>\n",
              "    <tr>\n",
              "      <th>1</th>\n",
              "      <td>15945542</td>\n",
              "      <td>2017-01-01 00:01:03</td>\n",
              "      <td>231</td>\n",
              "      <td>4</td>\n",
              "    </tr>\n",
              "    <tr>\n",
              "      <th>2</th>\n",
              "      <td>15945543</td>\n",
              "      <td>2017-01-01 00:01:50</td>\n",
              "      <td>119</td>\n",
              "      <td>14</td>\n",
              "    </tr>\n",
              "    <tr>\n",
              "      <th>3</th>\n",
              "      <td>15945544</td>\n",
              "      <td>2017-01-01 00:02:09</td>\n",
              "      <td>121</td>\n",
              "      <td>17</td>\n",
              "    </tr>\n",
              "    <tr>\n",
              "      <th>4</th>\n",
              "      <td>15945545</td>\n",
              "      <td>2017-01-01 00:03:32</td>\n",
              "      <td>320</td>\n",
              "      <td>29</td>\n",
              "    </tr>\n",
              "    <tr>\n",
              "      <th>...</th>\n",
              "      <td>...</td>\n",
              "      <td>...</td>\n",
              "      <td>...</td>\n",
              "      <td>...</td>\n",
              "    </tr>\n",
              "    <tr>\n",
              "      <th>3141701</th>\n",
              "      <td>21716337</td>\n",
              "      <td>2019-12-31 03:12:34</td>\n",
              "      <td>307</td>\n",
              "      <td>13</td>\n",
              "    </tr>\n",
              "    <tr>\n",
              "      <th>3141702</th>\n",
              "      <td>21716339</td>\n",
              "      <td>2019-12-31 03:16:21</td>\n",
              "      <td>238</td>\n",
              "      <td>2</td>\n",
              "    </tr>\n",
              "    <tr>\n",
              "      <th>3141703</th>\n",
              "      <td>21716342</td>\n",
              "      <td>2019-12-31 03:22:43</td>\n",
              "      <td>210</td>\n",
              "      <td>10</td>\n",
              "    </tr>\n",
              "    <tr>\n",
              "      <th>3141704</th>\n",
              "      <td>21716346</td>\n",
              "      <td>2019-12-31 03:28:54</td>\n",
              "      <td>306</td>\n",
              "      <td>14</td>\n",
              "    </tr>\n",
              "    <tr>\n",
              "      <th>3141705</th>\n",
              "      <td>21716350</td>\n",
              "      <td>2019-12-31 03:50:34</td>\n",
              "      <td>238</td>\n",
              "      <td>20</td>\n",
              "    </tr>\n",
              "  </tbody>\n",
              "</table>\n",
              "<p>259527 rows × 4 columns</p>\n",
              "</div>"
            ],
            "text/plain": [
              "          LEAS_NO            LEAS_DATE  LEAS_STATION  LEAS_DEF_NO\n",
              "0        15945541  2017-01-01 00:00:41           213           18\n",
              "1        15945542  2017-01-01 00:01:03           231            4\n",
              "2        15945543  2017-01-01 00:01:50           119           14\n",
              "3        15945544  2017-01-01 00:02:09           121           17\n",
              "4        15945545  2017-01-01 00:03:32           320           29\n",
              "...           ...                  ...           ...          ...\n",
              "3141701  21716337  2019-12-31 03:12:34           307           13\n",
              "3141702  21716339  2019-12-31 03:16:21           238            2\n",
              "3141703  21716342  2019-12-31 03:22:43           210           10\n",
              "3141704  21716346  2019-12-31 03:28:54           306           14\n",
              "3141705  21716350  2019-12-31 03:50:34           238           20\n",
              "\n",
              "[259527 rows x 4 columns]"
            ]
          },
          "metadata": {
            "tags": []
          },
          "execution_count": 15
        }
      ]
    },
    {
      "cell_type": "code",
      "metadata": {
        "id": "V3FPeQZqlDXh",
        "colab_type": "code",
        "colab": {
          "base_uri": "https://localhost:8080/",
          "height": 105
        },
        "outputId": "cb8848b9-a369-4121-a09c-2e2360a75c6b"
      },
      "source": [
        "# 결측값 확인\n",
        "bicycle_makcha_LEAS.isnull().sum()"
      ],
      "execution_count": 16,
      "outputs": [
        {
          "output_type": "execute_result",
          "data": {
            "text/plain": [
              "LEAS_NO         0\n",
              "LEAS_DATE       0\n",
              "LEAS_STATION    0\n",
              "LEAS_DEF_NO     0\n",
              "dtype: int64"
            ]
          },
          "metadata": {
            "tags": []
          },
          "execution_count": 16
        }
      ]
    },
    {
      "cell_type": "code",
      "metadata": {
        "id": "MD-xXPWvlKD0",
        "colab_type": "code",
        "colab": {}
      },
      "source": [
        "#LEAS_STATION의 대여 횟수\n",
        "LEAS_counts=bicycle_makcha_LEAS['LEAS_STATION'].value_counts()"
      ],
      "execution_count": 17,
      "outputs": []
    },
    {
      "cell_type": "code",
      "metadata": {
        "id": "La4ogMXOlYnS",
        "colab_type": "code",
        "colab": {
          "base_uri": "https://localhost:8080/",
          "height": 402
        },
        "outputId": "90ab954a-f952-4ccc-f128-58fe0589575c"
      },
      "source": [
        "# 막차 시간대 대여횟수를 하나의 데이터프레임으로 변형\n",
        "hour_0to3 = LEAS_counts.rename_axis('LEAS_STATION').reset_index(name='counts')\n",
        "hour_0to3"
      ],
      "execution_count": 19,
      "outputs": [
        {
          "output_type": "execute_result",
          "data": {
            "text/html": [
              "<div>\n",
              "<style scoped>\n",
              "    .dataframe tbody tr th:only-of-type {\n",
              "        vertical-align: middle;\n",
              "    }\n",
              "\n",
              "    .dataframe tbody tr th {\n",
              "        vertical-align: top;\n",
              "    }\n",
              "\n",
              "    .dataframe thead th {\n",
              "        text-align: right;\n",
              "    }\n",
              "</style>\n",
              "<table border=\"1\" class=\"dataframe\">\n",
              "  <thead>\n",
              "    <tr style=\"text-align: right;\">\n",
              "      <th></th>\n",
              "      <th>LEAS_STATION</th>\n",
              "      <th>counts</th>\n",
              "    </tr>\n",
              "  </thead>\n",
              "  <tbody>\n",
              "    <tr>\n",
              "      <th>0</th>\n",
              "      <td>210</td>\n",
              "      <td>15446</td>\n",
              "    </tr>\n",
              "    <tr>\n",
              "      <th>1</th>\n",
              "      <td>260</td>\n",
              "      <td>6489</td>\n",
              "    </tr>\n",
              "    <tr>\n",
              "      <th>2</th>\n",
              "      <td>259</td>\n",
              "      <td>5992</td>\n",
              "    </tr>\n",
              "    <tr>\n",
              "      <th>3</th>\n",
              "      <td>306</td>\n",
              "      <td>5298</td>\n",
              "    </tr>\n",
              "    <tr>\n",
              "      <th>4</th>\n",
              "      <td>342</td>\n",
              "      <td>4951</td>\n",
              "    </tr>\n",
              "    <tr>\n",
              "      <th>...</th>\n",
              "      <td>...</td>\n",
              "      <td>...</td>\n",
              "    </tr>\n",
              "    <tr>\n",
              "      <th>151</th>\n",
              "      <td>351</td>\n",
              "      <td>37</td>\n",
              "    </tr>\n",
              "    <tr>\n",
              "      <th>152</th>\n",
              "      <td>256</td>\n",
              "      <td>37</td>\n",
              "    </tr>\n",
              "    <tr>\n",
              "      <th>153</th>\n",
              "      <td>992</td>\n",
              "      <td>33</td>\n",
              "    </tr>\n",
              "    <tr>\n",
              "      <th>154</th>\n",
              "      <td>263</td>\n",
              "      <td>16</td>\n",
              "    </tr>\n",
              "    <tr>\n",
              "      <th>155</th>\n",
              "      <td>998</td>\n",
              "      <td>2</td>\n",
              "    </tr>\n",
              "  </tbody>\n",
              "</table>\n",
              "<p>156 rows × 2 columns</p>\n",
              "</div>"
            ],
            "text/plain": [
              "     LEAS_STATION  counts\n",
              "0             210   15446\n",
              "1             260    6489\n",
              "2             259    5992\n",
              "3             306    5298\n",
              "4             342    4951\n",
              "..            ...     ...\n",
              "151           351      37\n",
              "152           256      37\n",
              "153           992      33\n",
              "154           263      16\n",
              "155           998       2\n",
              "\n",
              "[156 rows x 2 columns]"
            ]
          },
          "metadata": {
            "tags": []
          },
          "execution_count": 19
        }
      ]
    },
    {
      "cell_type": "code",
      "metadata": {
        "id": "tPAFgOmPmM3b",
        "colab_type": "code",
        "colab": {}
      },
      "source": [
        "# 해당 스테이션별 위도 경도 입히기\n",
        "\n",
        "bicycle_station=pd.read_csv('02.자전거스테이션.csv')"
      ],
      "execution_count": 26,
      "outputs": []
    },
    {
      "cell_type": "code",
      "metadata": {
        "id": "hY0AocSKm3qK",
        "colab_type": "code",
        "colab": {
          "base_uri": "https://localhost:8080/",
          "height": 125
        },
        "outputId": "5b872938-4a19-4266-bc14-e22a5a5872ff"
      },
      "source": [
        "hour_0to3['위도']=0\n",
        "hour_0to3['경도']=0\n",
        "\n",
        "for i in range(len(hour_0to3['LEAS_STATION'])):\n",
        "    for j in range(len(bicycle_station['Station_ID'])):\n",
        "        if hour_0to3['LEAS_STATION'].iloc[i]==bicycle_station['Station_ID'].iloc[j]:\n",
        "            hour_0to3['위도'].iloc[i]=bicycle_station['위도'].iloc[j]\n",
        "            hour_0to3['경도'].iloc[i]=bicycle_station['경도'].iloc[j]"
      ],
      "execution_count": 27,
      "outputs": [
        {
          "output_type": "stream",
          "text": [
            "/usr/local/lib/python3.6/dist-packages/pandas/core/indexing.py:671: SettingWithCopyWarning: \n",
            "A value is trying to be set on a copy of a slice from a DataFrame\n",
            "\n",
            "See the caveats in the documentation: https://pandas.pydata.org/pandas-docs/stable/user_guide/indexing.html#returning-a-view-versus-a-copy\n",
            "  self._setitem_with_indexer(indexer, value)\n"
          ],
          "name": "stderr"
        }
      ]
    },
    {
      "cell_type": "code",
      "metadata": {
        "id": "4yzv4osmna16",
        "colab_type": "code",
        "colab": {
          "base_uri": "https://localhost:8080/",
          "height": 195
        },
        "outputId": "e1f471b9-c721-4495-e6fa-702bd2455583"
      },
      "source": [
        "hour_0to3.head()"
      ],
      "execution_count": 28,
      "outputs": [
        {
          "output_type": "execute_result",
          "data": {
            "text/html": [
              "<div>\n",
              "<style scoped>\n",
              "    .dataframe tbody tr th:only-of-type {\n",
              "        vertical-align: middle;\n",
              "    }\n",
              "\n",
              "    .dataframe tbody tr th {\n",
              "        vertical-align: top;\n",
              "    }\n",
              "\n",
              "    .dataframe thead th {\n",
              "        text-align: right;\n",
              "    }\n",
              "</style>\n",
              "<table border=\"1\" class=\"dataframe\">\n",
              "  <thead>\n",
              "    <tr style=\"text-align: right;\">\n",
              "      <th></th>\n",
              "      <th>LEAS_STATION</th>\n",
              "      <th>counts</th>\n",
              "      <th>위도</th>\n",
              "      <th>경도</th>\n",
              "    </tr>\n",
              "  </thead>\n",
              "  <tbody>\n",
              "    <tr>\n",
              "      <th>0</th>\n",
              "      <td>210</td>\n",
              "      <td>15446</td>\n",
              "      <td>37.663673</td>\n",
              "      <td>126.767099</td>\n",
              "    </tr>\n",
              "    <tr>\n",
              "      <th>1</th>\n",
              "      <td>260</td>\n",
              "      <td>6489</td>\n",
              "      <td>37.662030</td>\n",
              "      <td>126.768952</td>\n",
              "    </tr>\n",
              "    <tr>\n",
              "      <th>2</th>\n",
              "      <td>259</td>\n",
              "      <td>5992</td>\n",
              "      <td>37.656722</td>\n",
              "      <td>126.771620</td>\n",
              "    </tr>\n",
              "    <tr>\n",
              "      <th>3</th>\n",
              "      <td>306</td>\n",
              "      <td>5298</td>\n",
              "      <td>37.675838</td>\n",
              "      <td>126.747974</td>\n",
              "    </tr>\n",
              "    <tr>\n",
              "      <th>4</th>\n",
              "      <td>342</td>\n",
              "      <td>4951</td>\n",
              "      <td>37.677995</td>\n",
              "      <td>126.766402</td>\n",
              "    </tr>\n",
              "  </tbody>\n",
              "</table>\n",
              "</div>"
            ],
            "text/plain": [
              "   LEAS_STATION  counts         위도          경도\n",
              "0           210   15446  37.663673  126.767099\n",
              "1           260    6489  37.662030  126.768952\n",
              "2           259    5992  37.656722  126.771620\n",
              "3           306    5298  37.675838  126.747974\n",
              "4           342    4951  37.677995  126.766402"
            ]
          },
          "metadata": {
            "tags": []
          },
          "execution_count": 28
        }
      ]
    },
    {
      "cell_type": "code",
      "metadata": {
        "id": "aNoBNeVznj9r",
        "colab_type": "code",
        "colab": {}
      },
      "source": [
        ""
      ],
      "execution_count": null,
      "outputs": []
    }
  ]
}